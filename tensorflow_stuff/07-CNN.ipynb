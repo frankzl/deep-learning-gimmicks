{
 "cells": [
  {
   "cell_type": "markdown",
   "metadata": {},
   "source": [
    "# Helper Functions"
   ]
  },
  {
   "cell_type": "code",
   "execution_count": 1,
   "metadata": {},
   "outputs": [],
   "source": [
    "import tensorflow as tf\n",
    "from tensorflow.examples.tutorials.mnist import input_data\n",
    "import numpy as np\n",
    "\n",
    "def weight_variable(shape):\n",
    "    # dirty workaround, error converting Dimension to int\n",
    "    # error only occurs in jupyter\n",
    "    shape[0] = int(shape[0])\n",
    "    \n",
    "    initial = tf.truncated_normal(shape, stddev=0.1)\n",
    "    return tf.Variable(initial)\n",
    "\n",
    "def bias_variable( shape ):\n",
    "    initial = tf.constant(0.1, shape=shape)\n",
    "    return tf.Variable(initial)\n",
    "\n",
    "def conv2d( x, W ):\n",
    "    return tf.nn.conv2d(x,W, strides=[1,1,1,1], padding='SAME')\n",
    "\n",
    "def max_pool_2x2(x):\n",
    "    return tf.nn.max_pool(x, ksize=[1,2,2,1], strides=[1,2,2,1], padding='SAME')\n",
    "\n",
    "def conv_layer(_input, shape):\n",
    "    W = weight_variable(shape)\n",
    "    b = bias_variable([shape[3]])\n",
    "    return tf.nn.relu( conv2d(_input, W) + b )\n",
    "\n",
    "def full_layer(_input, size):\n",
    "    W = weight_variable([_input.get_shape()[1], size])\n",
    "    b = bias_variable( [size] )\n",
    "    return tf.matmul(_input, W) + b"
   ]
  },
  {
   "cell_type": "code",
   "execution_count": 2,
   "metadata": {},
   "outputs": [],
   "source": [
    "x  = tf.placeholder( tf.float32, shape=[None, 784])\n",
    "y_ = tf.placeholder( tf.float32, shape=[None, 10])\n",
    "\n",
    "x_image = tf.reshape(x, [-1, 28,28, 1])\n",
    "\n",
    "conv1      = conv_layer( x_image, shape=[5,5,1,32])\n",
    "conv1_pool = max_pool_2x2( conv1 )\n",
    "\n",
    "conv2      = conv_layer( conv1_pool, shape=[5,5,32,64])\n",
    "conv2_pool = max_pool_2x2( conv2 )\n",
    "\n",
    "conv2_flat = tf.reshape(conv2_pool, [-1, 7*7*64])\n",
    "full_1     = tf.nn.relu(full_layer(conv2_flat, 1024))\n",
    "\n",
    "keep_prob  = tf.placeholder(tf.float32)\n",
    "full1_drop = tf.nn.dropout(full_1, keep_prob=keep_prob)\n",
    "\n",
    "y_conv = full_layer(full1_drop, 10)"
   ]
  },
  {
   "cell_type": "code",
   "execution_count": 3,
   "metadata": {},
   "outputs": [
    {
     "name": "stdout",
     "output_type": "stream",
     "text": [
      "WARNING:tensorflow:From <ipython-input-3-9ee5d90e0246>:2: read_data_sets (from tensorflow.contrib.learn.python.learn.datasets.mnist) is deprecated and will be removed in a future version.\n",
      "Instructions for updating:\n",
      "Please use alternatives such as official/mnist/dataset.py from tensorflow/models.\n",
      "WARNING:tensorflow:From /home/frankzl/.envs/env36-ml/.venv/lib/python3.6/site-packages/tensorflow/contrib/learn/python/learn/datasets/mnist.py:260: maybe_download (from tensorflow.contrib.learn.python.learn.datasets.base) is deprecated and will be removed in a future version.\n",
      "Instructions for updating:\n",
      "Please write your own downloading logic.\n",
      "WARNING:tensorflow:From /home/frankzl/.envs/env36-ml/.venv/lib/python3.6/site-packages/tensorflow/contrib/learn/python/learn/datasets/mnist.py:262: extract_images (from tensorflow.contrib.learn.python.learn.datasets.mnist) is deprecated and will be removed in a future version.\n",
      "Instructions for updating:\n",
      "Please use tf.data to implement this functionality.\n",
      "Extracting ../data/train-images-idx3-ubyte.gz\n",
      "WARNING:tensorflow:From /home/frankzl/.envs/env36-ml/.venv/lib/python3.6/site-packages/tensorflow/contrib/learn/python/learn/datasets/mnist.py:267: extract_labels (from tensorflow.contrib.learn.python.learn.datasets.mnist) is deprecated and will be removed in a future version.\n",
      "Instructions for updating:\n",
      "Please use tf.data to implement this functionality.\n",
      "Extracting ../data/train-labels-idx1-ubyte.gz\n",
      "WARNING:tensorflow:From /home/frankzl/.envs/env36-ml/.venv/lib/python3.6/site-packages/tensorflow/contrib/learn/python/learn/datasets/mnist.py:110: dense_to_one_hot (from tensorflow.contrib.learn.python.learn.datasets.mnist) is deprecated and will be removed in a future version.\n",
      "Instructions for updating:\n",
      "Please use tf.one_hot on tensors.\n",
      "Extracting ../data/t10k-images-idx3-ubyte.gz\n",
      "Extracting ../data/t10k-labels-idx1-ubyte.gz\n",
      "WARNING:tensorflow:From /home/frankzl/.envs/env36-ml/.venv/lib/python3.6/site-packages/tensorflow/contrib/learn/python/learn/datasets/mnist.py:290: DataSet.__init__ (from tensorflow.contrib.learn.python.learn.datasets.mnist) is deprecated and will be removed in a future version.\n",
      "Instructions for updating:\n",
      "Please use alternatives such as official/mnist/dataset.py from tensorflow/models.\n"
     ]
    }
   ],
   "source": [
    "DATA_DIR = '../data'\n",
    "mnist = input_data.read_data_sets(DATA_DIR, one_hot=True)\n",
    "\n",
    "cross_entropy = tf.reduce_mean(tf.nn.softmax_cross_entropy_with_logits_v2(logits=y_conv, labels=y_))\n",
    "\n",
    "train_step = tf.train.AdamOptimizer(1e-4).minimize(cross_entropy)\n",
    "\n",
    "correct_prediction = tf.equal(tf.argmax(y_conv, 1), tf.argmax(y_,1))\n",
    "\n",
    "pred = tf.argmax(y_conv, 1)\n",
    "\n",
    "accuracy = tf.reduce_mean(tf.cast(correct_prediction, tf.float32))"
   ]
  },
  {
   "cell_type": "code",
   "execution_count": 5,
   "metadata": {},
   "outputs": [
    {
     "name": "stdout",
     "output_type": "stream",
     "text": [
      "step: 0 \t training accuracy: 0.07999999821186066\n",
      "step: 100 \t training accuracy: 0.8199999928474426\n",
      "step: 200 \t training accuracy: 0.8799999952316284\n",
      "step: 300 \t training accuracy: 0.8999999761581421\n",
      "step: 400 \t training accuracy: 0.9399999976158142\n",
      "step: 500 \t training accuracy: 0.9200000166893005\n",
      "step: 600 \t training accuracy: 1.0\n",
      "step: 700 \t training accuracy: 0.9200000166893005\n",
      "step: 800 \t training accuracy: 0.9800000190734863\n",
      "step: 900 \t training accuracy: 0.9800000190734863\n",
      "step: 1000 \t training accuracy: 0.9599999785423279\n",
      "step: 1100 \t training accuracy: 0.9800000190734863\n",
      "step: 1200 \t training accuracy: 1.0\n",
      "step: 1300 \t training accuracy: 1.0\n",
      "step: 1400 \t training accuracy: 1.0\n",
      "step: 1500 \t training accuracy: 0.9800000190734863\n",
      "step: 1600 \t training accuracy: 0.9800000190734863\n",
      "step: 1700 \t training accuracy: 0.9599999785423279\n",
      "step: 1800 \t training accuracy: 0.9800000190734863\n",
      "step: 1900 \t training accuracy: 0.8999999761581421\n",
      "step: 2000 \t training accuracy: 1.0\n",
      "step: 2100 \t training accuracy: 0.9599999785423279\n",
      "step: 2200 \t training accuracy: 0.9599999785423279\n",
      "step: 2300 \t training accuracy: 0.9599999785423279\n",
      "step: 2400 \t training accuracy: 1.0\n",
      "step: 2500 \t training accuracy: 0.9800000190734863\n",
      "step: 2600 \t training accuracy: 1.0\n",
      "step: 2700 \t training accuracy: 0.9599999785423279\n",
      "step: 2800 \t training accuracy: 0.9599999785423279\n",
      "step: 2900 \t training accuracy: 0.9800000190734863\n",
      "step: 3000 \t training accuracy: 0.9800000190734863\n",
      "step: 3100 \t training accuracy: 1.0\n",
      "step: 3200 \t training accuracy: 0.9800000190734863\n",
      "step: 3300 \t training accuracy: 0.9800000190734863\n",
      "step: 3400 \t training accuracy: 0.9800000190734863\n",
      "step: 3500 \t training accuracy: 0.9800000190734863\n",
      "step: 3600 \t training accuracy: 0.9800000190734863\n",
      "step: 3700 \t training accuracy: 1.0\n",
      "step: 3800 \t training accuracy: 1.0\n",
      "step: 3900 \t training accuracy: 1.0\n",
      "step: 4000 \t training accuracy: 1.0\n",
      "step: 4100 \t training accuracy: 1.0\n",
      "step: 4200 \t training accuracy: 1.0\n",
      "step: 4300 \t training accuracy: 1.0\n",
      "step: 4400 \t training accuracy: 0.9399999976158142\n",
      "step: 4500 \t training accuracy: 1.0\n",
      "step: 4600 \t training accuracy: 0.9599999785423279\n",
      "step: 4700 \t training accuracy: 1.0\n",
      "step: 4800 \t training accuracy: 1.0\n",
      "step: 4900 \t training accuracy: 0.9599999785423279\n",
      "test accuracy 0.9854000210762024\n"
     ]
    }
   ],
   "source": [
    "STEPS = 5000\n",
    "BATCH_SIZE = 50\n",
    "\n",
    "with tf.Session() as sess:\n",
    "    sess.run(tf.global_variables_initializer())\n",
    "    \n",
    "    X = mnist.test.images.reshape(10,1000,784)\n",
    "    Y = mnist.test.labels.reshape(10,1000,10)\n",
    "    \n",
    "    for i in range(STEPS):\n",
    "        batch = mnist.train.next_batch(BATCH_SIZE)\n",
    "        \n",
    "        if i % 100 == 0:\n",
    "            train_accuracy = sess.run(accuracy, feed_dict={\n",
    "                x: batch[0],\n",
    "                y_: batch[1],\n",
    "                keep_prob: 1.0\n",
    "            })\n",
    "            print(f\"step: {i} \\t training accuracy: {train_accuracy}\")\n",
    "            \n",
    "        sess.run(train_step, feed_dict={\n",
    "                x: batch[0],\n",
    "                y_: batch[1],\n",
    "                keep_prob: .5\n",
    "            })\n",
    "        \n",
    "    test_accuracy = np.mean([sess.run(accuracy, \n",
    "                                     feed_dict={\n",
    "                                         x: X[i], \n",
    "                                         y_: Y[i], \n",
    "                                         keep_prob: 1.0\n",
    "                                     })\n",
    "                            for i in range(10)])\n",
    "\n",
    "    test_accuracy = np.mean([sess.run(accuracy, \n",
    "                                     feed_dict={\n",
    "                                         x: X[i], \n",
    "                                         y_: Y[i], \n",
    "                                         keep_prob: 1.0\n",
    "                                     })\n",
    "                            for i in range(10)])\n",
    "    \n",
    "    _correct = sess.run(correct_prediction, feed_dict={x: mnist.test.images, y_: mnist.test.labels, keep_prob:1.0})\n",
    "    _pred = sess.run(pred, feed_dict={x: mnist.test.images, y_: mnist.test.labels, keep_prob:1.0})\n",
    "    \n",
    "    print(f\"test accuracy {test_accuracy}\")"
   ]
  },
  {
   "cell_type": "code",
   "execution_count": 6,
   "metadata": {},
   "outputs": [
    {
     "data": {
      "image/png": "[encoded data removed]",
      "text/plain": [
       "<Figure size 432x288 with 25 Axes>"
      ]
     },
     "metadata": {
      "needs_background": "light"
     },
     "output_type": "display_data"
    }
   ],
   "source": [
    "import numpy as np\n",
    "import matplotlib.image as mpimg\n",
    "import matplotlib.pyplot as plt\n",
    "\n",
    "wrong_pred = mnist.test.images[_correct == False]\n",
    "\n",
    "f, axarr = plt.subplots( 5, 5)\n",
    "f.tight_layout()\n",
    "\n",
    "Y_true = np.argmax(mnist.test.labels, 1)[_correct == False]\n",
    "    \n",
    "for i in range(0,25):\n",
    "    a = np.reshape(wrong_pred[i], (28, 28))\n",
    "    axarr[int(i/5),i%5].imshow(a)\n",
    "    axarr[int(i/5),i%5].set_title(f\"{_pred[i]}/{Y_true[i]}\") \n",
    "    \n",
    "plt.show()"
   ]
  },
  {
   "cell_type": "code",
   "execution_count": 18,
   "metadata": {},
   "outputs": [
    {
     "name": "stdout",
     "output_type": "stream",
     "text": [
      "step: 0 \t training accuracy: 1.0\n",
      "step: 100 \t training accuracy: 1.0\n",
      "step: 200 \t training accuracy: 1.0\n",
      "step: 300 \t training accuracy: 1.0\n",
      "step: 400 \t training accuracy: 1.0\n",
      "step: 500 \t training accuracy: 1.0\n",
      "step: 600 \t training accuracy: 1.0\n",
      "step: 700 \t training accuracy: 1.0\n",
      "step: 800 \t training accuracy: 1.0\n",
      "step: 900 \t training accuracy: 1.0\n",
      "step: 1000 \t training accuracy: 0.9800000190734863\n",
      "step: 1100 \t training accuracy: 0.9800000190734863\n",
      "step: 1200 \t training accuracy: 1.0\n",
      "step: 1300 \t training accuracy: 1.0\n",
      "step: 1400 \t training accuracy: 1.0\n",
      "step: 1500 \t training accuracy: 1.0\n",
      "step: 1600 \t training accuracy: 0.9800000190734863\n",
      "step: 1700 \t training accuracy: 1.0\n",
      "step: 1800 \t training accuracy: 0.9800000190734863\n",
      "step: 1900 \t training accuracy: 1.0\n",
      "test accuracy 0.991100013256073\n"
     ]
    }
   ],
   "source": [
    "STEPS = 2000\n",
    "BATCH_SIZE = 50\n",
    "\n",
    "# sess = tf.Session()\n",
    "# sess.run(tf.global_variables_initializer())\n",
    "\n",
    "X = mnist.test.images.reshape(10,1000,784)\n",
    "Y = mnist.test.labels.reshape(10,1000,10)\n",
    "\n",
    "for i in range(STEPS):\n",
    "    batch = mnist.train.next_batch(BATCH_SIZE)\n",
    "    \n",
    "    if i % 100 == 0:\n",
    "        train_accuracy = sess.run(accuracy, feed_dict={\n",
    "            x: batch[0],\n",
    "            y_: batch[1],\n",
    "            keep_prob: 1.0\n",
    "        })\n",
    "        print(f\"step: {i} \\t training accuracy: {train_accuracy}\")\n",
    "        \n",
    "    sess.run(train_step, feed_dict={\n",
    "            x: batch[0],\n",
    "            y_: batch[1],\n",
    "            keep_prob: .5\n",
    "        })\n",
    "    \n",
    "test_accuracy = np.mean([sess.run(accuracy, \n",
    "                                 feed_dict={\n",
    "                                     x: X[i], \n",
    "                                     y_: Y[i], \n",
    "                                     keep_prob: 1.0\n",
    "                                 })\n",
    "                        for i in range(10)])\n",
    "\n",
    "test_accuracy = np.mean([sess.run(accuracy, \n",
    "                                 feed_dict={\n",
    "                                     x: X[i], \n",
    "                                     y_: Y[i], \n",
    "                                     keep_prob: 1.0\n",
    "                                 })\n",
    "                        for i in range(10)])\n",
    "\n",
    "_correct = sess.run(correct_prediction, feed_dict={x: mnist.test.images, y_: mnist.test.labels, keep_prob:1.0})\n",
    "_pred = sess.run(pred, feed_dict={x: mnist.test.images, y_: mnist.test.labels, keep_prob:1.0})\n",
    "\n",
    "print(f\"test accuracy {test_accuracy}\")"
   ]
  },
  {
   "cell_type": "code",
   "execution_count": 19,
   "metadata": {},
   "outputs": [
    {
     "data": {
      "image/png": "[encoded data removed]",
      "text/plain": [
       "<Figure size 432x288 with 25 Axes>"
      ]
     },
     "metadata": {
      "needs_background": "light"
     },
     "output_type": "display_data"
    }
   ],
   "source": [
    "import matplotlib.image as mpimg\n",
    "import matplotlib.pyplot as plt\n",
    "\n",
    "wrong_pred = mnist.test.images[_correct == False]\n",
    "\n",
    "f, axarr = plt.subplots( 5, 5)\n",
    "f.tight_layout()\n",
    "\n",
    "Y_true = np.argmax(mnist.test.labels, 1)[_correct == False]\n",
    "_pred = _pred[_correct == False ]\n",
    "\n",
    "for i in range(0,25):\n",
    "    a = np.reshape(wrong_pred[i], (28, 28))\n",
    "    axarr[int(i/5),i%5].imshow(a)\n",
    "    axarr[int(i/5),i%5].set_title(f\"{_pred[i]}/{Y_true[i]}\") \n",
    "    \n",
    "plt.show()"
   ]
  },
  {
   "cell_type": "code",
   "execution_count": null,
   "metadata": {},
   "outputs": [],
   "source": []
  }
 ],
 "metadata": {
  "kernelspec": {
   "display_name": "Python 3",
   "language": "python",
   "name": "python3"
  },
  "language_info": {
   "codemirror_mode": {
    "name": "ipython",
    "version": 3
   },
   "file_extension": ".py",
   "mimetype": "text/x-python",
   "name": "python",
   "nbconvert_exporter": "python",
   "pygments_lexer": "ipython3",
   "version": "3.6.7"
  }
 },
 "nbformat": 4,
 "nbformat_minor": 2
}
