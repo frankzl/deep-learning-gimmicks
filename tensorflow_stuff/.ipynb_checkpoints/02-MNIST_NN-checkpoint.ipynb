{
 "cells": [
  {
   "cell_type": "code",
   "execution_count": 2,
   "metadata": {},
   "outputs": [
    {
     "name": "stdout",
     "output_type": "stream",
     "text": [
      "WARNING:tensorflow:From /home/frankzl/.envs/env36-ml/.venv/lib/python3.6/site-packages/tensorflow/contrib/learn/python/learn/datasets/mnist.py:262: extract_images (from tensorflow.contrib.learn.python.learn.datasets.mnist) is deprecated and will be removed in a future version.\n",
      "Instructions for updating:\n",
      "Please use tf.data to implement this functionality.\n",
      "Extracting ../data/train-images-idx3-ubyte.gz\n",
      "WARNING:tensorflow:From /home/frankzl/.envs/env36-ml/.venv/lib/python3.6/site-packages/tensorflow/contrib/learn/python/learn/datasets/mnist.py:267: extract_labels (from tensorflow.contrib.learn.python.learn.datasets.mnist) is deprecated and will be removed in a future version.\n",
      "Instructions for updating:\n",
      "Please use tf.data to implement this functionality.\n",
      "Extracting ../data/train-labels-idx1-ubyte.gz\n",
      "WARNING:tensorflow:From /home/frankzl/.envs/env36-ml/.venv/lib/python3.6/site-packages/tensorflow/contrib/learn/python/learn/datasets/mnist.py:110: dense_to_one_hot (from tensorflow.contrib.learn.python.learn.datasets.mnist) is deprecated and will be removed in a future version.\n",
      "Instructions for updating:\n",
      "Please use tf.one_hot on tensors.\n",
      "Extracting ../data/t10k-images-idx3-ubyte.gz\n",
      "Extracting ../data/t10k-labels-idx1-ubyte.gz\n",
      "WARNING:tensorflow:From /home/frankzl/.envs/env36-ml/.venv/lib/python3.6/site-packages/tensorflow/contrib/learn/python/learn/datasets/mnist.py:290: DataSet.__init__ (from tensorflow.contrib.learn.python.learn.datasets.mnist) is deprecated and will be removed in a future version.\n",
      "Instructions for updating:\n",
      "Please use alternatives such as official/mnist/dataset.py from tensorflow/models.\n"
     ]
    }
   ],
   "source": [
    "import tensorflow as tf\n",
    "from tensorflow.examples.tutorials.mnist import input_data\n",
    "mnist = input_data.read_data_sets(\"../data\", one_hot=True) # y labels are oh-encoded\n",
    "\n",
    "n_train = mnist.train.num_examples # 55,000\n",
    "n_validation = mnist.validation.num_examples # 5000\n",
    "n_test = mnist.test.num_examples # 10,000"
   ]
  },
  {
   "cell_type": "code",
   "execution_count": 23,
   "metadata": {},
   "outputs": [],
   "source": [
    "n_input = 784   # input layer (28x28 pixels)\n",
    "n_hidden1 = 512 # 1st hidden layer\n",
    "# n_hidden1 = 1024 # 1st hidden layer\n",
    "n_hidden2 = 256 # 2nd hidden layer\n",
    "# n_hidden3 = 128 # 3rd hidden layer\n",
    "n_hidden3 = 256 # 3rd hidden layer\n",
    "n_output = 10   # output layer (0-9 digits)"
   ]
  },
  {
   "cell_type": "code",
   "execution_count": 24,
   "metadata": {},
   "outputs": [],
   "source": [
    "learning_rate = 1e-4\n",
    "n_iterations = 3000\n",
    "batch_size = 128\n",
    "dropout = 0.5"
   ]
  },
  {
   "cell_type": "code",
   "execution_count": 25,
   "metadata": {},
   "outputs": [],
   "source": [
    "X = tf.placeholder(\"float\", [None, n_input])\n",
    "Y = tf.placeholder(\"float\", [None, n_output])\n",
    "keep_prob = tf.placeholder(tf.float32) \n",
    "\n",
    "weights = {\n",
    "    'w1': tf.Variable(tf.truncated_normal([n_input, n_hidden1], stddev=0.1)),\n",
    "    'w2': tf.Variable(tf.truncated_normal([n_hidden1, n_hidden2], stddev=0.1)),\n",
    "    'w3': tf.Variable(tf.truncated_normal([n_hidden2, n_hidden3], stddev=0.1)),\n",
    "    'out': tf.Variable(tf.truncated_normal([n_hidden3, n_output], stddev=0.1)),\n",
    "}\n",
    "\n",
    "biases = {\n",
    "    'b1': tf.Variable(tf.constant(0.1, shape=[n_hidden1])),\n",
    "    'b2': tf.Variable(tf.constant(0.1, shape=[n_hidden2])),\n",
    "    'b3': tf.Variable(tf.constant(0.1, shape=[n_hidden3])),\n",
    "    'out': tf.Variable(tf.constant(0.1, shape=[n_output]))\n",
    "}\n",
    "\n",
    "layer_1 = tf.nn.relu(tf.add(tf.matmul(X, weights['w1']), biases['b1']))\n",
    "layer_2 = tf.nn.relu(tf.add(tf.matmul(layer_1, weights['w2']), biases['b2']))\n",
    "layer_3 = tf.nn.relu(tf.add(tf.matmul(layer_2, weights['w3']), biases['b3']))\n",
    "layer_drop = tf.nn.dropout(layer_3, keep_prob)\n",
    "output_layer = tf.matmul(layer_3, weights['out']) + biases['out']\n",
    "\n",
    "cross_entropy = tf.reduce_mean(tf.nn.softmax_cross_entropy_with_logits_v2(labels=Y, logits=output_layer))\n",
    "train_step = tf.train.AdamOptimizer(1e-4).minimize(cross_entropy)\n",
    "\n",
    "correct_pred = tf.equal(tf.argmax(output_layer, 1), tf.argmax(Y, 1))\n",
    "accuracy = tf.reduce_mean(tf.cast(correct_pred, tf.float32))"
   ]
  },
  {
   "cell_type": "code",
   "execution_count": 26,
   "metadata": {},
   "outputs": [
    {
     "name": "stdout",
     "output_type": "stream",
     "text": [
      "Iteration 0 \t| Loss = 3.5735555 \t| Accuracy = 0.1640625\n",
      "Iteration 100 \t| Loss = 0.45606515 \t| Accuracy = 0.8515625\n",
      "Iteration 200 \t| Loss = 0.22800857 \t| Accuracy = 0.90625\n",
      "Iteration 300 \t| Loss = 0.15223645 \t| Accuracy = 0.9609375\n",
      "Iteration 400 \t| Loss = 0.19827986 \t| Accuracy = 0.9453125\n",
      "Iteration 500 \t| Loss = 0.13770787 \t| Accuracy = 0.953125\n",
      "Iteration 600 \t| Loss = 0.19680887 \t| Accuracy = 0.9609375\n",
      "Iteration 700 \t| Loss = 0.1900438 \t| Accuracy = 0.9453125\n",
      "Iteration 800 \t| Loss = 0.17051688 \t| Accuracy = 0.96875\n",
      "Iteration 900 \t| Loss = 0.13420914 \t| Accuracy = 0.9609375\n",
      "Iteration 1000 \t| Loss = 0.14227626 \t| Accuracy = 0.953125\n",
      "Iteration 1100 \t| Loss = 0.11655401 \t| Accuracy = 0.9765625\n",
      "Iteration 1200 \t| Loss = 0.060562048 \t| Accuracy = 0.9765625\n",
      "Iteration 1300 \t| Loss = 0.079582654 \t| Accuracy = 0.9765625\n",
      "Iteration 1400 \t| Loss = 0.07649855 \t| Accuracy = 0.984375\n",
      "Iteration 1500 \t| Loss = 0.08564558 \t| Accuracy = 0.96875\n",
      "Iteration 1600 \t| Loss = 0.08966929 \t| Accuracy = 0.984375\n",
      "Iteration 1700 \t| Loss = 0.06468672 \t| Accuracy = 0.984375\n",
      "Iteration 1800 \t| Loss = 0.022424782 \t| Accuracy = 1.0\n",
      "Iteration 1900 \t| Loss = 0.085927315 \t| Accuracy = 0.9765625\n",
      "Iteration 2000 \t| Loss = 0.06025961 \t| Accuracy = 0.9921875\n",
      "Iteration 2100 \t| Loss = 0.05903897 \t| Accuracy = 0.9765625\n",
      "Iteration 2200 \t| Loss = 0.05426301 \t| Accuracy = 0.984375\n",
      "Iteration 2300 \t| Loss = 0.054801673 \t| Accuracy = 0.984375\n",
      "Iteration 2400 \t| Loss = 0.07828813 \t| Accuracy = 0.9765625\n",
      "Iteration 2500 \t| Loss = 0.019494895 \t| Accuracy = 1.0\n",
      "Iteration 2600 \t| Loss = 0.031167042 \t| Accuracy = 0.9921875\n",
      "Iteration 2700 \t| Loss = 0.033420544 \t| Accuracy = 0.9921875\n",
      "Iteration 2800 \t| Loss = 0.042322382 \t| Accuracy = 1.0\n",
      "Iteration 2900 \t| Loss = 0.021627981 \t| Accuracy = 1.0\n",
      "Iteration 3000 \t| Loss = 0.03730409 \t| Accuracy = 0.9921875\n",
      "Iteration 3100 \t| Loss = 0.022947889 \t| Accuracy = 1.0\n",
      "Iteration 3200 \t| Loss = 0.046169385 \t| Accuracy = 0.984375\n",
      "Iteration 3300 \t| Loss = 0.005298592 \t| Accuracy = 1.0\n",
      "Iteration 3400 \t| Loss = 0.018325374 \t| Accuracy = 1.0\n",
      "Iteration 3500 \t| Loss = 0.013212128 \t| Accuracy = 1.0\n",
      "Iteration 3600 \t| Loss = 0.011085654 \t| Accuracy = 1.0\n",
      "Iteration 3700 \t| Loss = 0.009492815 \t| Accuracy = 1.0\n",
      "Iteration 3800 \t| Loss = 0.0320751 \t| Accuracy = 0.9921875\n",
      "Iteration 3900 \t| Loss = 0.013967033 \t| Accuracy = 1.0\n",
      "\n",
      "Accuracy on test set: 0.9754\n"
     ]
    }
   ],
   "source": [
    "\n",
    "with tf.Session() as sess:\n",
    "    init = tf.global_variables_initializer()\n",
    "    sess.run(init)\n",
    "    \n",
    "    # train on mini batches\n",
    "    for i in range(n_iterations):\n",
    "        batch_x, batch_y = mnist.train.next_batch(batch_size)\n",
    "        sess.run(train_step, feed_dict={X: batch_x, Y: batch_y, keep_prob:dropout})\n",
    "    \n",
    "        # print loss and accuracy (per minibatch)\n",
    "        if i%100==0:\n",
    "            minibatch_loss, minibatch_accuracy = sess.run([cross_entropy, accuracy], feed_dict={X: batch_x, Y: batch_y, keep_prob:1.0})\n",
    "            print(\"Iteration\", str(i), \"\\t| Loss =\", str(minibatch_loss), \"\\t| Accuracy =\", str(minibatch_accuracy))\n",
    "            \n",
    "    test_accuracy = sess.run(accuracy, feed_dict={X: mnist.test.images, Y: mnist.test.labels, keep_prob:1.0})\n",
    "    \n",
    "    final_weights = {\n",
    "        'w1': sess.run( weights['w1'] ),\n",
    "        'w2': sess.run( weights['w2'] ),\n",
    "        'w3': sess.run( weights['w3'] ),\n",
    "        'out': sess.run( weights['out'] )\n",
    "    }\n",
    "    \n",
    "    print(\"\\nAccuracy on test set:\", test_accuracy)\n"
   ]
  },
  {
   "cell_type": "code",
   "execution_count": 40,
   "metadata": {},
   "outputs": [
    {
     "data": {
      "image/png": "[encoded data removed]",
      "text/plain": [
       "<Figure size 432x288 with 1 Axes>"
      ]
     },
     "metadata": {
      "needs_background": "light"
     },
     "output_type": "display_data"
    }
   ],
   "source": [
    "import numpy as np\n",
    "\n",
    "a = np.reshape(final_weights['w3'][3], (16, -1))\n",
    "\n",
    "import matplotlib.image as mpimg\n",
    "import matplotlib.pyplot as plt\n",
    "\n",
    "imgplot = plt.imshow(a)\n",
    "plt.show()"
   ]
  },
  {
   "cell_type": "code",
   "execution_count": 41,
   "metadata": {},
   "outputs": [
    {
     "data": {
      "text/plain": [
       "(784, 1024)"
      ]
     },
     "execution_count": 41,
     "metadata": {},
     "output_type": "execute_result"
    }
   ],
   "source": [
    "final_weights['w1'].shape"
   ]
  },
  {
   "cell_type": "code",
   "execution_count": null,
   "metadata": {},
   "outputs": [],
   "source": []
  }
 ],
 "metadata": {
  "kernelspec": {
   "display_name": "Python 3",
   "language": "python",
   "name": "python3"
  },
  "language_info": {
   "codemirror_mode": {
    "name": "ipython",
    "version": 3
   },
   "file_extension": ".py",
   "mimetype": "text/x-python",
   "name": "python",
   "nbconvert_exporter": "python",
   "pygments_lexer": "ipython3",
   "version": "3.6.7"
  }
 },
 "nbformat": 4,
 "nbformat_minor": 2
}
